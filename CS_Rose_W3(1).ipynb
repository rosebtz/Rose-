{
  "nbformat": 4,
  "nbformat_minor": 0,
  "metadata": {
    "colab": {
      "provenance": [],
      "toc_visible": true
    },
    "kernelspec": {
      "name": "python3",
      "display_name": "Python 3"
    },
    "language_info": {
      "name": "python"
    }
  },
  "cells": [
    {
      "cell_type": "code",
      "execution_count": null,
      "metadata": {
        "id": "_fd8K_RS0oOR"
      },
      "outputs": [],
      "source": []
    },
    {
      "cell_type": "code",
      "source": [
        "print(\"stelios\")\n",
        "print(5)\n",
        "print(\"number is\", 6.6)\n",
        "print (3+12)"
      ],
      "metadata": {
        "colab": {
          "base_uri": "https://localhost:8080/"
        },
        "id": "Lym0-SA-0vek",
        "outputId": "b48bfd98-e4d5-4d0e-fc67-7fe2194528d4"
      },
      "execution_count": null,
      "outputs": [
        {
          "output_type": "stream",
          "name": "stdout",
          "text": [
            "stelios\n",
            "5\n",
            "number is 6.6\n",
            "15\n"
          ]
        }
      ]
    },
    {
      "cell_type": "code",
      "source": [
        "input(\"enter a name\")\n",
        "input(\"enter a city\")"
      ],
      "metadata": {
        "colab": {
          "base_uri": "https://localhost:8080/",
          "height": 73
        },
        "id": "FO8A5XmL19RN",
        "outputId": "84889bdc-2d5d-4a88-a347-98555b110afa"
      },
      "execution_count": null,
      "outputs": [
        {
          "name": "stdout",
          "output_type": "stream",
          "text": [
            "enter a namerose \n",
            "enter a citylondon\n"
          ]
        },
        {
          "output_type": "execute_result",
          "data": {
            "text/plain": [
              "'london'"
            ],
            "application/vnd.google.colaboratory.intrinsic+json": {
              "type": "string"
            }
          },
          "metadata": {},
          "execution_count": 8
        }
      ]
    },
    {
      "cell_type": "markdown",
      "source": [
        "# Nouvelle section"
      ],
      "metadata": {
        "id": "1rPh-CbJKrur"
      }
    },
    {
      "cell_type": "code",
      "source": [
        "name = input(\"enter your name: \")\n",
        "city = input(\"enter a city: \")\n",
        "print (\"hello\", name, \"from\", city)\n"
      ],
      "metadata": {
        "colab": {
          "base_uri": "https://localhost:8080/"
        },
        "id": "rAAWlJcz2txJ",
        "outputId": "ad934615-3124-4dbe-bfbc-305f6cbc8f6f"
      },
      "execution_count": null,
      "outputs": [
        {
          "output_type": "stream",
          "name": "stdout",
          "text": [
            "enter your name: rose \n",
            "enter a city: london\n",
            "hello rose  from london\n"
          ]
        }
      ]
    },
    {
      "cell_type": "code",
      "source": [
        "x = 10\n",
        "print (x+3)\n"
      ],
      "metadata": {
        "colab": {
          "base_uri": "https://localhost:8080/"
        },
        "id": "_e2Uq_-t3BZX",
        "outputId": "a43a9d68-ccdf-49f4-cf60-4af9922d5838"
      },
      "execution_count": null,
      "outputs": [
        {
          "output_type": "stream",
          "name": "stdout",
          "text": [
            "13\n"
          ]
        }
      ]
    },
    {
      "cell_type": "markdown",
      "source": [
        "Exercice:\n",
        "Ask the user to enter their name, tel number and city.\n",
        "Print in the following form:\n",
        "Stelios from paris, tel is: 3435361"
      ],
      "metadata": {
        "id": "0cqfviWw3PTe"
      }
    },
    {
      "cell_type": "code",
      "source": [
        "name = input(\"enter your name\")\n",
        "city = input(\"enter your city\")\n",
        "tel = input(\"enter your number\")\n",
        "\n",
        "print(name,\"from\",city,\",tel is\", tel)"
      ],
      "metadata": {
        "colab": {
          "base_uri": "https://localhost:8080/"
        },
        "id": "t6IyUVW-3sIy",
        "outputId": "ac256fb8-41b9-4dc0-cd8c-9406e46f8164"
      },
      "execution_count": null,
      "outputs": [
        {
          "output_type": "stream",
          "name": "stdout",
          "text": [
            "enter your namerose\n",
            "enter your citylondon\n",
            "enter your number9876\n",
            "rose from london ,tel is 9876\n"
          ]
        }
      ]
    },
    {
      "cell_type": "code",
      "source": [
        "print(\"rose\",\"+1\")\n",
        "print(\"rose\"+\"1\")\n",
        "print(\"rose\"*3)\n"
      ],
      "metadata": {
        "colab": {
          "base_uri": "https://localhost:8080/"
        },
        "id": "Q__helbU4mu_",
        "outputId": "21f1bbe0-c649-4f69-db53-34cd1145ed34"
      },
      "execution_count": null,
      "outputs": [
        {
          "output_type": "stream",
          "name": "stdout",
          "text": [
            "rose +1\n",
            "rose1\n",
            "roseroserose\n"
          ]
        }
      ]
    },
    {
      "cell_type": "code",
      "source": [
        "age = input(\"how old are you?\")\n",
        "print(age)\n",
        "print(age*2)"
      ],
      "metadata": {
        "colab": {
          "base_uri": "https://localhost:8080/"
        },
        "id": "fe-X1p_g5PfN",
        "outputId": "50b98dfb-98e1-49ac-e62a-30e76a98d10e"
      },
      "execution_count": null,
      "outputs": [
        {
          "output_type": "stream",
          "name": "stdout",
          "text": [
            "how old are you?18\n",
            "18\n",
            "1818\n"
          ]
        }
      ]
    },
    {
      "cell_type": "code",
      "source": [
        "age = int(input(\"how old are you \"))\n",
        "print(age*3)"
      ],
      "metadata": {
        "colab": {
          "base_uri": "https://localhost:8080/"
        },
        "id": "w-DlQ5yH506R",
        "outputId": "c9f8b375-fd77-45bf-e1cb-c7e8de038fb9"
      },
      "execution_count": null,
      "outputs": [
        {
          "output_type": "stream",
          "name": "stdout",
          "text": [
            "how old are you 19\n",
            "57\n"
          ]
        }
      ]
    },
    {
      "cell_type": "markdown",
      "source": [
        "Exercice 2:\n",
        "\n",
        "Ask the user to give you 2 numbers, one after the other\n",
        "Print the addition of numbers\n",
        "\n",
        "5\n",
        "6\n",
        "11"
      ],
      "metadata": {
        "id": "C2MhfsWM588I"
      }
    },
    {
      "cell_type": "code",
      "source": [
        "x= int(input(\"enter a number\"))\n",
        "y= int(input(\"enter a number\"))\n",
        "print(x+y)\n"
      ],
      "metadata": {
        "colab": {
          "base_uri": "https://localhost:8080/"
        },
        "id": "TVWzb8XB6JBB",
        "outputId": "56e4d839-504b-4075-cde8-02ab8c828fe6"
      },
      "execution_count": null,
      "outputs": [
        {
          "output_type": "stream",
          "name": "stdout",
          "text": [
            "enter a number3\n",
            "enter a number4\n",
            "7\n"
          ]
        }
      ]
    },
    {
      "cell_type": "code",
      "source": [
        "x= float(input(\"enter a number\"))\n",
        "y= float(input(\"enter a number\"))\n",
        "print(x+y)"
      ],
      "metadata": {
        "colab": {
          "base_uri": "https://localhost:8080/"
        },
        "id": "A7ncYWyG62_Z",
        "outputId": "74dae45d-5cdf-4be1-bdee-26e1585e3b82"
      },
      "execution_count": null,
      "outputs": [
        {
          "output_type": "stream",
          "name": "stdout",
          "text": [
            "enter a number4\n",
            "enter a number5.5\n",
            "9.5\n"
          ]
        }
      ]
    },
    {
      "cell_type": "code",
      "source": [
        "x=10\n",
        "y=0\n",
        "if y==0:\n",
        "  print(\"I cannot divide by 0\")\n",
        "else:\n",
        "  print(x/y)\n"
      ],
      "metadata": {
        "colab": {
          "base_uri": "https://localhost:8080/"
        },
        "id": "hc_YyJM272jd",
        "outputId": "fc9d18a4-7c7a-4127-92eb-2bdefc71397e"
      },
      "execution_count": null,
      "outputs": [
        {
          "output_type": "stream",
          "name": "stdout",
          "text": [
            "I cannot divide by 0\n"
          ]
        }
      ]
    },
    {
      "cell_type": "code",
      "source": [],
      "metadata": {
        "id": "lnNBKDO1GaER"
      },
      "execution_count": null,
      "outputs": []
    },
    {
      "cell_type": "markdown",
      "source": [
        "Ask the user to enter 2 integer numbers\n",
        "Print the larget number\n",
        "\"max is \"\n"
      ],
      "metadata": {
        "id": "AkX3ICvF9DDk"
      }
    },
    {
      "cell_type": "code",
      "source": [
        "x=int(input(\"enter a number\"))\n",
        "y=int(input(\"enter a number\"))\n",
        "if x>y:\n",
        "  print(\"Max is\", x)\n",
        "else:\n",
        "  print(\"Max is\", y)\n"
      ],
      "metadata": {
        "colab": {
          "base_uri": "https://localhost:8080/"
        },
        "id": "uzTyvxsq9M2I",
        "outputId": "2842ba6a-8853-4e98-f530-9a451c953ff2"
      },
      "execution_count": null,
      "outputs": [
        {
          "output_type": "stream",
          "name": "stdout",
          "text": [
            "enter a number2\n",
            "enter a number4\n",
            "Max is 4\n"
          ]
        }
      ]
    },
    {
      "cell_type": "code",
      "source": [
        "x=int(input(\"enter a number:\"))\n",
        "if x>0:\n",
        "  print(\"positive\")\n",
        "elif x==0:\n",
        "  print(\"Zero\")\n",
        "else:\n",
        "  print(\"negative\")\n"
      ],
      "metadata": {
        "colab": {
          "base_uri": "https://localhost:8080/"
        },
        "id": "-peQieD59KFv",
        "outputId": "6ad72cb8-e885-41aa-c68f-db1200fb10db"
      },
      "execution_count": null,
      "outputs": [
        {
          "output_type": "stream",
          "name": "stdout",
          "text": [
            "enter a number:-4\n",
            "negative\n"
          ]
        }
      ]
    },
    {
      "cell_type": "code",
      "source": [
        "x=int(input(\"enter a number:\"))\n",
        "if x>=0 and x<10:\n",
        "  print(\"number between 0 and 10\")\n",
        "else:\n",
        "  print(\"something else\")\n"
      ],
      "metadata": {
        "colab": {
          "base_uri": "https://localhost:8080/"
        },
        "id": "gV38jJjiHPDr",
        "outputId": "a416eaec-6076-4400-ad2b-c95291150990"
      },
      "execution_count": null,
      "outputs": [
        {
          "output_type": "stream",
          "name": "stdout",
          "text": [
            "enter a number:0\n",
            "number between 0 and 10\n"
          ]
        }
      ]
    },
    {
      "cell_type": "code",
      "source": [
        "score=int(input(\"enter a number\"))\n",
        "if score>=0 and score<10:\n",
        "  print(\"fail\")\n",
        "elif score>=10 and score<15:\n",
        "  print(\"pass\")\n",
        "elif score>10 and score<20:\n",
        "  print(\"distinction\")\n",
        "else:\n",
        "  print(\"error\")@"
      ],
      "metadata": {
        "colab": {
          "base_uri": "https://localhost:8080/"
        },
        "id": "PDu4K3QPH_ia",
        "outputId": "a5e6f501-9e56-4e76-dfd2-373bb60ad0ee"
      },
      "execution_count": null,
      "outputs": [
        {
          "output_type": "stream",
          "name": "stdout",
          "text": [
            "enter a number19\n",
            "distinction\n"
          ]
        }
      ]
    },
    {
      "cell_type": "code",
      "source": [
        "num1=float(input(\"enter a number:\"))\n",
        "num2=float(input(\"enter a number:\"))\n",
        "operation=input(\"enter a sign(+,-,*,/,**,>,<):\")\n",
        "if operation==\"+\":\n",
        "  print(num1+num2)\n",
        "elif operation==\"-\":\n",
        "  print(num1-num2)\n",
        "elif operation==\"*\":\n",
        "  print(num1*num2)\n",
        "elif operation==\"**\":\n",
        "  print(num1**num2)\n",
        "elif operation==\"/\":\n",
        "  print(num1/num2)\n",
        "elif operation==\">\" and num1>num2:\n",
        "  print(num1)\n",
        "elif operation==\"<\" and num1<num2:\n",
        "  print(num2)\n",
        "else:\n",
        "  print(\"i do not support this yet!\")\n"
      ],
      "metadata": {
        "colab": {
          "base_uri": "https://localhost:8080/"
        },
        "id": "UXKO85lUGopf",
        "outputId": "47343573-dd38-4ac5-d21f-ed3951c2700c"
      },
      "execution_count": null,
      "outputs": [
        {
          "output_type": "stream",
          "name": "stdout",
          "text": [
            "enter a number:7\n",
            "enter a number:8\n",
            "enter a sign(+,-,*,/,**,>,<):>\n",
            "i do not support this yet!\n"
          ]
        }
      ]
    },
    {
      "cell_type": "code",
      "source": [],
      "metadata": {
        "id": "AyQ-k1SeIYaJ"
      },
      "execution_count": null,
      "outputs": []
    }
  ]
}