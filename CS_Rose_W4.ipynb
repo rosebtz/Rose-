{
  "nbformat": 4,
  "nbformat_minor": 0,
  "metadata": {
    "colab": {
      "provenance": []
    },
    "kernelspec": {
      "name": "python3",
      "display_name": "Python 3"
    },
    "language_info": {
      "name": "python"
    }
  },
  "cells": [
    {
      "cell_type": "code",
      "execution_count": null,
      "metadata": {
        "colab": {
          "base_uri": "https://localhost:8080/"
        },
        "id": "5GbTS-FrK6I0",
        "outputId": "58143e53-6e7c-4bd6-a59d-e9a3a2d737d0"
      },
      "outputs": [
        {
          "output_type": "stream",
          "name": "stdout",
          "text": [
            "enter a number:5\n",
            "enter a number:7\n",
            "enter a sign(+,-,*,/,**,>,<):+\n",
            "12.0\n"
          ]
        }
      ],
      "source": [
        "num1=float(input(\"enter a number:\"))\n",
        "num2=float(input(\"enter a number:\"))\n",
        "operation=input(\"enter a sign(+,-,*,/,**,>,<):\")\n",
        "if operation==\"+\":\n",
        "  print(num1+num2)\n",
        "elif operation==\"-\":\n",
        "  print(num1-num2)\n",
        "elif operation==\"*\":\n",
        "  print(num1*num2)\n",
        "elif operation==\"**\":\n",
        "  print(num1**num2)\n",
        "elif operation==\"/\":\n",
        "  print(num1/num2)\n",
        "elif operation==\">\" and num1>num2:\n",
        "  print(num1)\n",
        "elif operation==\"<\" and num1<num2:\n",
        "  print(num2)\n",
        "else:\n",
        "  print(\"i do not support this yet!\")\n"
      ]
    },
    {
      "cell_type": "code",
      "source": [
        "name=\"rose\"\n",
        "print(name)"
      ],
      "metadata": {
        "colab": {
          "base_uri": "https://localhost:8080/"
        },
        "id": "1VIB3H2PLW9C",
        "outputId": "1930d66b-73fd-4b48-e632-bcbeefbc0443"
      },
      "execution_count": null,
      "outputs": [
        {
          "output_type": "stream",
          "name": "stdout",
          "text": [
            "rose\n"
          ]
        }
      ]
    },
    {
      "cell_type": "code",
      "source": [
        "text=\"my name is rose and i live in london\"\n",
        "print(text)"
      ],
      "metadata": {
        "colab": {
          "base_uri": "https://localhost:8080/"
        },
        "id": "Foga6rQnLpgq",
        "outputId": "5c8c2388-5f14-4dbf-e704-1839ad102c80"
      },
      "execution_count": null,
      "outputs": [
        {
          "output_type": "stream",
          "name": "stdout",
          "text": [
            "my name is rose and i live in london\n"
          ]
        }
      ]
    },
    {
      "cell_type": "code",
      "source": [
        "name=\"ABCDEF\"\n",
        "print(text"
      ],
      "metadata": {
        "id": "WklKhTWRL8mt"
      },
      "execution_count": null,
      "outputs": []
    },
    {
      "cell_type": "code",
      "source": [
        "text=\"my name is rose and i live in london\"\n",
        "print(text[0:5])\n",
        "print(text[-7:])\n"
      ],
      "metadata": {
        "colab": {
          "base_uri": "https://localhost:8080/"
        },
        "id": "9vKG0wBAM0sn",
        "outputId": "521e3adb-f908-46b7-8298-757589630a50"
      },
      "execution_count": null,
      "outputs": [
        {
          "output_type": "stream",
          "name": "stdout",
          "text": [
            "my na\n",
            " london\n"
          ]
        }
      ]
    },
    {
      "cell_type": "code",
      "source": [
        "text=\"London, the capital of Engand and the United Kingdom, is a 21st-century city with history stretching back to roman times.\"\n",
        "print(len(text))\n",
        "print(text[23:30])\n",
        "print(text[-6:-1])"
      ],
      "metadata": {
        "colab": {
          "base_uri": "https://localhost:8080/"
        },
        "id": "-K9MSf-wN5w-",
        "outputId": "2925753b-dc3d-42b2-b554-9708b770a3cc"
      },
      "execution_count": null,
      "outputs": [
        {
          "output_type": "stream",
          "name": "stdout",
          "text": [
            "121\n",
            "Engand \n",
            "times\n"
          ]
        }
      ]
    },
    {
      "cell_type": "code",
      "source": [
        "text=input(\"where are you from?\")\n",
        "#if the city starts with L then print'capital L\"\n",
        "#else print\"something else\"\n",
        "#check f the text has a . at the end, if so say you have a dot.\n",
        "#if not say there is not dot!\n",
        "\n",
        "if text[0]==\"L\":\n",
        "  print(\"capital L\")\n",
        "else:\n",
        "  print(\"something else\")\n",
        "if text[-1]==\".\":\n",
        "    print(\"there is a dot\")\n",
        "else:\n",
        "  print(\"no dot!\")"
      ],
      "metadata": {
        "colab": {
          "base_uri": "https://localhost:8080/"
        },
        "id": "LeT_LHJwPDGP",
        "outputId": "fdf6ea17-add2-4a28-b1af-18cad7dc04c6"
      },
      "execution_count": null,
      "outputs": [
        {
          "output_type": "stream",
          "name": "stdout",
          "text": [
            "where are you from?paris\n",
            "something else\n",
            "no dot!\n"
          ]
        }
      ]
    },
    {
      "cell_type": "code",
      "source": [],
      "metadata": {
        "id": "WTHTE6vyNPM2"
      },
      "execution_count": null,
      "outputs": []
    }
  ]
}